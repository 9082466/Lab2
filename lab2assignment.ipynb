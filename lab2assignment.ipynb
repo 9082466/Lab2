{
 "cells": [
  {
   "cell_type": "markdown",
   "id": "ee449dfd",
   "metadata": {},
   "source": [
    "### Loading the data into a  datafram and printing the first 3 rows"
   ]
  },
  {
   "cell_type": "code",
   "execution_count": null,
   "id": "10b9d272",
   "metadata": {},
   "outputs": [],
   "source": []
  }
 ],
 "metadata": {
  "language_info": {
   "name": "python"
  }
 },
 "nbformat": 4,
 "nbformat_minor": 5
}
